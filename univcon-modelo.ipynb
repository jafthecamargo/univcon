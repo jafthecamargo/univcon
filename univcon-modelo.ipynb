{
  "cells": [
    {
      "cell_type": "markdown",
      "source": [
        "# Abrir en `Google Colaboratory` y conectar con `Google Drive`"
      ],
      "metadata": {
        "id": "WA-Vvy7KFy5k"
      }
    },
    {
      "cell_type": "markdown",
      "source": [
        "## Datos de Entrenamiento"
      ],
      "metadata": {
        "id": "N1lGHOexNl2z"
      }
    },
    {
      "cell_type": "code",
      "execution_count": null,
      "metadata": {
        "id": "t_QZjjhcT-jN"
      },
      "outputs": [],
      "source": [
        "import pandas as pd\n",
        "\n",
        "# Crea un DataFrame con los datos de entrenamiento\n",
        "data = {'p1': [2, 3, 1], \n",
        "        'p2': [2, 3, 1], \n",
        "        'p3': [3, 2, 1],\n",
        "        'p4': [1, 2, 3], \n",
        "        'p5': [3, 1, 2], \n",
        "        'p6': [1, 3, 2], \n",
        "        'p7': [3, 1, 2], \n",
        "        'p8': [3, 2, 1], \n",
        "        'p9': [3, 2, 1], \n",
        "        'p10': [2, 3, 1], \n",
        "        'p11': [1, 3, 2], \n",
        "        'p12': [3, 2, 1], \n",
        "        'p13': [2, 3, 1], \n",
        "        'p14': [1, 2, 3], \n",
        "        'p15': [1, 2, 3], \n",
        "        'p16': [3, 2, 1], \n",
        "        'p17': [1, 3, 2], \n",
        "        'p18': [1, 2, 3], \n",
        "        'p19': [1, 3, 2], \n",
        "        'p20': [1, 2, 3], \n",
        "        'p21': [3, 2, 1], \n",
        "        'p22': [1, 3, 2], \n",
        "        'p23': [1, 3, 2], \n",
        "        'p24': [1, 2, 3], \n",
        "        'p25': [1, 3, 2],  \n",
        "        'p26': [1, 3, 2], \n",
        "        'p27': [1, 2, 3], \n",
        "        'p28': [3, 1, 2], \n",
        "        'p29': [1, 3, 2], \n",
        "        'p30': [1, 3, 2], \n",
        "        'p31': [1, 3, 2], \n",
        "        'p32': [3, 1, 2], \n",
        "        'p33': [1, 2, 3], \n",
        "        'p34': [2, 3, 1], \n",
        "        'area': ['fisico-matematicas', 'ciencias-sociales-salud', 'arte']}\n",
        "df = pd.DataFrame(data)\n",
        "\n",
        "# Guarda el DataFrame como un archivo CSV\n",
        "df.to_csv('/content/drive/MyDrive/datos.csv', index=False)\n"
      ]
    },
    {
      "cell_type": "markdown",
      "source": [
        "## Creación y Entrenamiento del Modelo"
      ],
      "metadata": {
        "id": "zkeYq41nNv7X"
      }
    },
    {
      "cell_type": "code",
      "source": [
        "import matplotlib.pyplot as plt\n",
        "from tensorflow import keras\n",
        "from sklearn.preprocessing import LabelEncoder\n",
        "from keras.utils import to_categorical\n",
        "\n",
        "# Carga de datos\n",
        "df = pd.read_csv('/content/drive/MyDrive/datos.csv')\n",
        "preguntas = df[['p1','p2','p3','p4','p5','p6','p7','p8','p9','p10','p11','p12','p13','p14','p15'\n",
        "                ,'p16','p17','p18','p19','p20','p21','p22','p23','p24','p25','p26','p27','p28'\n",
        "                ,'p29','p30','p31','p32','p33','p34']]\n",
        "area = df['area']\n",
        "\n",
        "# Codificación de etiquetas\n",
        "encoder = LabelEncoder()\n",
        "area_codificadas = encoder.fit_transform(area)\n",
        "area_codificadas = to_categorical(area_codificadas) #convertimos las etiquetas a one hot encoding\n",
        "\n",
        "# Creación del modelo\n",
        "model = keras.Sequential([\n",
        "    keras.layers.Flatten(input_shape=(34,)), #la primera capa se encarga de aplanar las entradas\n",
        "    keras.layers.Dense(64, activation='relu'), #capa densa de 64 neuronas con activación relu\n",
        "    keras.layers.Dense(3, activation='softmax') #capa de salida con 3 neuronas y activación softmax para la clasificación\n",
        "])\n",
        "\n",
        "# Compilación del modelo\n",
        "model.compile(optimizer='adam', loss='categorical_crossentropy', metrics=['accuracy'])\n",
        "\n",
        "# Entrenamiento del modelo\n",
        "print(\"Entrenando...\")\n",
        "historial = model.fit(preguntas, area_codificadas, epochs=1900, verbose=False)\n",
        "print(\"Modelo Entrenado!\")\n",
        "\n",
        "plt.xlabel(\"# Epoca\")\n",
        "plt.ylabel(\"Magnitud de Pérdida\")\n",
        "plt.plot(historial.history[\"loss\"])\n"
      ],
      "metadata": {
        "colab": {
          "base_uri": "https://localhost:8080/",
          "height": 331
        },
        "id": "TYHZHWwiMwk-",
        "outputId": "ffde40d5-3e4d-4229-b261-ee3d4b4b03a8"
      },
      "execution_count": null,
      "outputs": [
        {
          "output_type": "stream",
          "name": "stdout",
          "text": [
            "Entrenando...\n",
            "Modelo Entrenado!\n"
          ]
        },
        {
          "output_type": "execute_result",
          "data": {
            "text/plain": [
              "[<matplotlib.lines.Line2D at 0x7fc310095550>]"
            ]
          },
          "metadata": {},
          "execution_count": 2
        },
        {
          "output_type": "display_data",
          "data": {
            "text/plain": [
              "<Figure size 432x288 with 1 Axes>"
            ],
            "image/png": "[encoded data removed]"
          },
          "metadata": {
            "needs_background": "light"
          }
        }
      ]
    },
    {
      "cell_type": "markdown",
      "source": [
        "## Pruebas `(Modificar email)`"
      ],
      "metadata": {
        "id": "qdoMXdsuN8JY"
      }
    },
    {
      "cell_type": "code",
      "source": [
        "import os\n",
        "import numpy as np\n",
        "import firebase_admin\n",
        "from firebase_admin import credentials\n",
        "from google.cloud import firestore\n",
        "import tensorflow as tf\n",
        "\n",
        "email = 'mcorderol@ipn.mx'\n",
        "\n",
        "# Use a service account.\n",
        "if not firebase_admin._apps:\n",
        "    cred = credentials.Certificate('/content/drive/MyDrive/univcon-64c3e-firebase-adminsdk-28aki-76008b008e.json') \n",
        "    default_app = firebase_admin.initialize_app(cred)\n",
        "\n",
        "credential_path = os.path.abspath('/content/drive/MyDrive/univcon-64c3e-firebase-adminsdk-28aki-76008b008e.json')\n",
        "os.environ['GOOGLE_APPLICATION_CREDENTIALS'] = credential_path\n",
        "\n",
        "db = firestore.Client()\n",
        "\n",
        "coleccion_ref = db.collection('preguntas')\n",
        "query = coleccion_ref.where(\"email\", \"==\", email)\n",
        "docs = query.stream()\n",
        "\n",
        "results_list = []\n",
        "for doc in docs:\n",
        "    data = doc.to_dict()\n",
        "    new_data = {key: value for key, value in data.items() if key != 'email'}\n",
        "    results_list.append(new_data)\n",
        "\n",
        "results_list = sorted(results_list[0].items(), key=lambda x: int(x[0].replace(\"p\", \"\")))\n",
        "\n",
        "results_list = [val for key, val in results_list]\n",
        "\n",
        "print(\"------------------------------------------------------------------------------------------------------\")\n",
        "print(results_list)\n",
        "\n",
        "preguntas_prueba = [\n",
        "   #  [1,1,1,3,2,2,2,1,1,1,2,1,1,3,3,1,2,3,2,3,1,2,2,3,2,2,3,2,2,2,2,2,3,1], # Arte\n",
        "   #  [3,3,2,2,1,3,1,2,2,3,3,2,3,2,2,2,3,2,3,2,2,3,3,2,3,3,2,1,3,3,3,1,2,3], # Salud\n",
        "   #  [2,2,3,1,3,1,3,3,3,2,1,3,2,1,1,3,1,1,1,1,3,1,1,1,1,1,1,3,1,1,1,3,1,2], # F-M\n",
        "   #  [2,1,3,3,2,1,1,2,2,2,1,1,1,2,2,3,3,1,2,2,1,2,3,2,2,1,2,1,3,2,2,1,1,1], # Prueba Real\n",
        "      results_list\n",
        "]\n",
        "\n",
        "preguntas_prueba = np.array(preguntas_prueba)\n",
        "\n",
        "# Hacer predicciones con el modelo entrenado\n",
        "predicciones = model.predict(preguntas_prueba)\n",
        "\n",
        "# Obtener la clase con la probabilidad más alta para cada ejemplo\n",
        "clases_predichas = np.argmax(predicciones, axis=1)\n",
        "print(\"------------------------------------------------------------------------------------------------------\")\n",
        "print(clases_predichas)\n",
        "\n",
        "correspondencia = {0: \"Bellas Artes\", 1: \"Ciencias Sociales y de la Salud\", 2: \"Físico-Matemáticas\"}\n",
        "results_list = [correspondencia.get(val, val) for val in clases_predichas]\n",
        "print(results_list)\n",
        "\n",
        "universidades = [{\"unv1\":\"Universidad Nacional Autónoma de México (UNAM)\", \"area\":2},\n",
        "                 {\"unv2\":\"Instituto Politécnico Nacional (IPN)\", \"area\":2},\n",
        "                 {\"unv3\":\"Instituto Tecnológico y de Estudios Superiores de Monterrey (ITESM)\", \"area\":2},\n",
        "                 {\"unv4\":\"Universidad Autónoma Metropolitana (UAM)\", \"area\":2},\n",
        "                 {\"unv5\":\"Universidad de Guadalajara (UdeG)\", \"area\":2},\n",
        "                 {\"unv1\":\"Universidad Nacional Autónoma de México (UNAM)\", \"area\":1},\n",
        "                 {\"unv2\":\"Instituto Politécnico Nacional (IPN)\", \"area\":1},\n",
        "                 {\"unv3\":\"Instituto Tecnológico y de Estudios Superiores de Monterrey (ITESM)\", \"area\":1},\n",
        "                 {\"unv4\":\"Universidad Autónoma Metropolitana (UAM)\", \"area\":1},\n",
        "                 {\"unv5\":\"Universidad Iberoamericana (UIA)\", \"area\":1},\n",
        "                 {\"unv1\":\"Universidad Nacional Autónoma de México (UNAM)\", \"area\":0},\n",
        "                 {\"unv2\":\"Instituto Tecnológico y de Estudios Superiores de Monterrey (ITESM)\", \"area\":0},\n",
        "                 {\"unv3\":\"Universidad Autónoma Metropolitana (UAM)\", \"area\":0},\n",
        "                 {\"unv4\":\"Universidad de Guadalajara (UdeG)\", \"area\":0},\n",
        "                 {\"unv5\":\"Universidad Veracruzana (UV)\", \"area\":0}]\n",
        "\n",
        "\n",
        "universidades_guardadas = [unv for unv in universidades if unv[\"area\"] == int(clases_predichas[0])]\n",
        "\n",
        "\n",
        "new_collection_ref = db.collection('informes')\n",
        "new_collection_ref.add({\n",
        "    'email' : email,\n",
        "})\n",
        "\n",
        "query = new_collection_ref.where(\"email\", \"==\", email)\n",
        "docs = query.docs = query.stream()\n",
        "for doc in docs:\n",
        "  doc.reference.update({'area': results_list})\n",
        "\n",
        "query = new_collection_ref.where(\"email\", \"==\", email)\n",
        "docs = query.stream()\n",
        "for doc in docs:\n",
        "  for i in range(5):\n",
        "      doc.reference.update({'unv'+str(i+1): universidades_guardadas[i]['unv'+str(i+1)]})\n"
      ],
      "metadata": {
        "colab": {
          "base_uri": "https://localhost:8080/"
        },
        "id": "hTvrEJ76Mluq",
        "outputId": "bb60f1aa-d7e9-45d2-a2d9-dd3f11022f4f"
      },
      "execution_count": null,
      "outputs": [
        {
          "output_type": "stream",
          "name": "stdout",
          "text": [
            "------------------------------------------------------------------------------------------------------\n",
            "[2, 3, 1, 1, 1, nan, nan, nan, nan, nan, nan, nan, nan, nan, nan, nan, nan, nan, nan, nan, nan, nan, nan, nan, nan, nan, nan, nan, nan, nan, nan, nan, nan, nan]\n",
            "1/1 [==============================] - 0s 15ms/step\n",
            "------------------------------------------------------------------------------------------------------\n",
            "[0]\n",
            "['Bellas Artes']\n"
          ]
        }
      ]
    }
  ],
  "metadata": {
    "accelerator": "GPU",
    "colab": {
      "provenance": []
    },
    "gpuClass": "standard",
    "kernelspec": {
      "display_name": "Python 3",
      "name": "python3"
    },
    "language_info": {
      "name": "python"
    }
  },
  "nbformat": 4,
  "nbformat_minor": 0
}